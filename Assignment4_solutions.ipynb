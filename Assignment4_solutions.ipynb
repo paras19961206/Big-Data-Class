{
 "cells": [
  {
   "cell_type": "markdown",
   "metadata": {},
   "source": [
    "# EGRMGMT 590.10 Homework 4"
   ]
  },
  {
   "cell_type": "markdown",
   "metadata": {},
   "source": [
    "*Due at 6:15pm ET on Thursday, March 21*"
   ]
  },
  {
   "cell_type": "markdown",
   "metadata": {},
   "source": [
    "## Instructions"
   ]
  },
  {
   "cell_type": "markdown",
   "metadata": {},
   "source": [
    "+ There are 9 exercises in total. Exercise 1 through 3 require coding. Your grades are based on the accuracy of the results, not the code execution speed.\n",
    "  + Exercise 1: 1 point.\n",
    "  + Exercise 2 and 3: each is worth 3 points. \n",
    "  + Exercise 4 to 9: each is worth 0.5 points. \n",
    "+ Exercise 1 through 3 require generating model parameters using code you built **from scratch** without relying on existing modules with functions or capabilities to \"plug-in and populate\" parameters for those models.\n",
    "+ As the coding exercises require matrix manipulation, familiarize yourself with the following functions and methods:\n",
    "  + numpy.linalg.inv\n",
    "  + numpy.ndarray.dot\n",
    "  + numpy.dot\n",
    "  + numpy.ndarray.T   \n",
    "+ Exercises are independent with each other. Feel free to work on them in the order you prefer.\n",
    "+ Submit the .ipynb file to Sakai before 6:15pm ET on Thursday, March 21.\n",
    "+ Assignments handed in late will lose 1 point every 24-hour window after 6:15pm ET on Thursday, March 21."
   ]
  },
  {
   "cell_type": "markdown",
   "metadata": {},
   "source": [
    "## Dataset"
   ]
  },
  {
   "cell_type": "markdown",
   "metadata": {},
   "source": [
    "**Dataset Information:**\n",
    "\n",
    "We'll be working on three datasets attached to Assignment 4 on Sakai. Each coding exercise requires a different dataset:\n",
    "+ Exercise 1: 'Assignment4_SampleData_Ex1.csv'\n",
    "+ Exercise 2: 'Assignment4_SampleData_Ex2.csv'\n",
    "+ Exercise 3: 'Assignment4_SampleData_Ex3.csv'"
   ]
  },
  {
   "cell_type": "markdown",
   "metadata": {},
   "source": [
    "## Exercises"
   ]
  },
  {
   "cell_type": "markdown",
   "metadata": {},
   "source": [
    "### Exercise 1 "
   ]
  },
  {
   "cell_type": "markdown",
   "metadata": {},
   "source": [
    "+ Read the data from 'Assignment4_SampleData_Ex1.csv' to a pandas DataFrame df1\n",
    "+ Create the code from scratch to calculate the intercept and slope for a simple linear regression model with the input variable X and output variable Y in df1 using the Normal Equation approach\n",
    "+ Compare the intercept and slope you calculated with the results returned by sklearn's LinearRegression\n",
    "+ No need to split the data into training and testing for this exercise\n",
    "+ *Hint: refer to slide 16 in the week 7 deck. If calculated correctly, your parameters should be exactly the same as those returned by sklearn.*"
   ]
  },
  {
   "cell_type": "code",
   "execution_count": 93,
   "metadata": {},
   "outputs": [
    {
     "data": {
      "image/png": "[encoded data removed]",
      "text/plain": [
       "<Figure size 432x288 with 1 Axes>"
      ]
     },
     "metadata": {
      "needs_background": "light"
     },
     "output_type": "display_data"
    },
    {
     "name": "stdout",
     "output_type": "stream",
     "text": [
      "The intercept and slope according to the Normal Equation\n",
      "intercept: 5.215096157546816 slope: 8.934318110410974\n",
      "\n",
      "The intercept and slope according to SKLearn\n",
      "intercept: [5.21509616] slope: [[8.93431811]]\n"
     ]
    }
   ],
   "source": [
    "import pandas as pd\n",
    "import numpy as np\n",
    "import matplotlib.pyplot as plt\n",
    "import seaborn as sns\n",
    "from sklearn.linear_model import LinearRegression\n",
    "df1=pd.read_csv('/Users/paras/Desktop/Assignment4_SampleData_Ex1.csv')\n",
    "b=np.array(df1.X)\n",
    "b=b.reshape(b.shape[0],1)\n",
    "y=np.array(df1.Y)\n",
    "x = np.concatenate((np.ones((b.shape[0],1)), b), axis = 1)\n",
    "theta=np.dot(np.dot(np.linalg.inv(np.dot(x.T,x)),x.T),y)\n",
    "x_new=theta[1]*x + theta[0]\n",
    "_=plt.plot(x[:,1],x_new[:,1])\n",
    "_=sns.scatterplot(x[:,1],y,color=\"R\")\n",
    "plt.show()\n",
    "\n",
    "print(\"The intercept and slope according to the Normal Equation\")\n",
    "print('intercept: '+ str(theta[0])+ ' slope: '+ str(theta[1]))\n",
    "\n",
    "X=pd.DataFrame(df1.X)\n",
    "y=pd.DataFrame(df1.Y)\n",
    "linearRegressor = LinearRegression()\n",
    "\"\"\"for i in range(10000):\n",
    "    xTrain, xTest, yTrain, yTest = train_test_split(X,y, test_size = 0.2,random_state=i)\"\"\"\n",
    "\n",
    "linearRegressor.fit(X, y)\n",
    "print(\"\\nThe intercept and slope according to SKLearn\")\n",
    "print('intercept: '+ str(linearRegressor.intercept_)+ ' slope: '+ str(linearRegressor.coef_))\n"
   ]
  },
  {
   "cell_type": "markdown",
   "metadata": {},
   "source": [
    "### Exercise 2"
   ]
  },
  {
   "cell_type": "markdown",
   "metadata": {},
   "source": [
    "+ Read the data from 'Assignment4_SampleData_Ex2.csv' to a pandas DataFrame df2\n",
    "+ Create a function BGD from scratch to estimate the intercept and slopes for a multiple linear regression model with X1 and X2 as the input variables and Y as the output variable using the Batch Gradient Descent approach\n",
    "+ Compare your estimates with the results returned by sklearn's LinearRegression\n",
    "+ No need to split the data into training and testing for this exercise\n",
    "+ *Hint: refer to slide 26-30 in the week 7 deck. If implemented correctly, your parameters should be similar to those returned by sklearn.*"
   ]
  },
  {
   "cell_type": "code",
   "execution_count": 87,
   "metadata": {},
   "outputs": [
    {
     "name": "stdout",
     "output_type": "stream",
     "text": [
      "Custom BDG implementation [4.88825037 5.8408434  9.105232  ]\n",
      "Linear Regression from scikit learn: 4.910610036450066 [5.82913734 9.10275877]\n"
     ]
    }
   ],
   "source": [
    "import pandas as pd\n",
    "\n",
    "\n",
    "def BGD(X, Y, eta, n_rounds, tol, random_state):\n",
    "    \"\"\"\n",
    "    Returns the intercept and predictor coefficients for a multiple linear regression model using Batch Gradient Descent \n",
    "    with MSE as the cost function.\n",
    "    \n",
    "    Parameters\n",
    "    ----------\n",
    "    X: a numpy ndarray with the independent variables\n",
    "    Y: a numpy ndarray with the dependent variable\n",
    "    eta: the learning rate, e.g. 0.1, 0.01, 0.001 etc.\n",
    "    n_rounds: number of passes over the data, e.g. 100, 1000, 10000 etc.\n",
    "    tol: the stopping criteria, i.e. previous MSE - current MSE < tol\n",
    "    random_state: a random state to make the randomness deterministic\n",
    "    \n",
    "    Examples\n",
    "    ----------\n",
    "    BGD(X, Y)\n",
    "    BGD(X, Y, eta = 0.01)\n",
    "    \n",
    "    Notes\n",
    "    ----------\n",
    "    The parameters are returned in a numpy ndarray.\n",
    "    \n",
    "    \"\"\"\n",
    "    np.random.seed(random_state)\n",
    "    n = X.shape[1]\n",
    "    one_column = np.ones((X.shape[0],1))\n",
    "    X = np.concatenate((one_column, X), axis = 1)\n",
    "    theta=np.random.rand(n+1)\n",
    "    h = hypothesis(theta, X, n)\n",
    "    theta,cost = gd(theta,eta,n_rounds,h,X,y,n,tol)\n",
    "    return theta,cost\n",
    "\n",
    "def gd(theta, eta, n_rounds, h, X, y, n,tol):\n",
    "    cost = np.ones(n_rounds)\n",
    "    for i in range(0,n_rounds):\n",
    "        theta[0] = theta[0] - (eta/X.shape[0]) * sum(h - y)\n",
    "        for j in range(1,n+1):\n",
    "            theta[j] = theta[j] - (eta/X.shape[0]) * sum((h-y) * X.transpose()[j])\n",
    "        h = hypothesis(theta, X, n)\n",
    "        cost[i] = (1/X.shape[0]) * 0.5 * sum(np.square(h - y))\n",
    "        if abs(cost[i-1]-cost[i])<tol:\n",
    "            break\n",
    "    return theta,cost\n",
    "\n",
    "def hypothesis(theta, X, n):\n",
    "    h = np.ones((X.shape[0],1))\n",
    "    theta = theta.reshape(1,n+1)\n",
    "    for i in range(0,X.shape[0]):\n",
    "        h[i] = float(np.dot(theta, X[i]))\n",
    "    h = h.reshape(X.shape[0])\n",
    "    return h\n",
    "\n",
    "\n",
    "df2=pd.read_csv('/Users/paras/Desktop/Assignment4_SampleData_Ex2.csv')\n",
    "x=df2.iloc[:,1:]\n",
    "y=df2.iloc[:,0]\n",
    "a,b=BGD(x,y,0.1,1000,0.000001,42)\n",
    "print('Custom BDG implementation '+ str(a))\n",
    "linearRegressor.fit(x,y)\n",
    "print('Linear Regression from scikit learn: ' +str(linearRegressor.intercept_) + ' ' + str(linearRegressor.coef_))"
   ]
  },
  {
   "cell_type": "code",
   "execution_count": 35,
   "metadata": {},
   "outputs": [],
   "source": []
  },
  {
   "cell_type": "markdown",
   "metadata": {},
   "source": [
    "### Exercise 3"
   ]
  },
  {
   "cell_type": "markdown",
   "metadata": {},
   "source": [
    "+ Read the data from 'Assignment4_SampleData_Ex3.csv' to a pandas DataFrame df3\n",
    "+ Create a function BGD_LogisticRegression from scratch to estimate the intercept and slopes for a binary logistic regression model with X1, X2 and X3 as the input variables and Y as the output variable using the Batch Gradient Descent approach\n",
    "+ Compare the F1 score of the logistic regression models using the parameters returned by BGD_LogisticRegression vs. sklearn's LogisticRegression\n",
    "+ No need to split the data into training and testing for this exercise\n",
    "+ *Hint: refer to slide 58-62 in the week 7 deck. If implemented correctly, your F1 score should be close to that returned by sklearn.*"
   ]
  },
  {
   "cell_type": "code",
   "execution_count": 96,
   "metadata": {
    "scrolled": true
   },
   "outputs": [
    {
     "name": "stdout",
     "output_type": "stream",
     "text": [
      "The intercept and the slopes through custom bgd are [[3.56817585 1.25764884 4.47655341 5.95248491]]\n",
      "The intercept and the slopes throug scikit learn are [3.71164161] [[1.33153031 4.66805387 6.21836126]]\n",
      "\n",
      "The f1 score calculated through custom bgd implementation is 0.9732484076433122\n",
      "The f1 score calculated through scikit learn logistic regression is :0.9725940089228807\n"
     ]
    },
    {
     "name": "stderr",
     "output_type": "stream",
     "text": [
      "/anaconda3/lib/python3.7/site-packages/sklearn/linear_model/logistic.py:433: FutureWarning: Default solver will be changed to 'lbfgs' in 0.22. Specify a solver to silence this warning.\n",
      "  FutureWarning)\n"
     ]
    }
   ],
   "source": [
    "from sklearn.linear_model import LogisticRegression\n",
    "\n",
    "from sklearn.metrics import f1_score\n",
    "\n",
    "def BGD_LogisticRegression(X, y, eta, n_rounds, tol, random_state):\n",
    "    \"\"\"\n",
    "    Returns the intercept and predictor coefficients for a binary logistic regression model using Batch Gradient Descent \n",
    "    with the log loss as the cost function.\n",
    "    \n",
    "    Parameters\n",
    "    ----------\n",
    "    X: a numpy ndarray with the independent variables\n",
    "    Y: a numpy ndarray with the dependent binary categorical variable\n",
    "    eta: the learning rate, e.g. 0.1, 0.01, 0.001 etc.\n",
    "    n_rounds: number of passes over the data, e.g. 100, 1000, 10000 etc. \n",
    "    tol: the stopping criteria, i.e. previous log loss - current log loss < tol\n",
    "    random_state: a random state to make the randomness deterministic\n",
    "    \n",
    "    Examples\n",
    "    ----------\n",
    "    BGD_LogisticRegression(X, Y)\n",
    "    BGD_LogisticRegression(X, Y, eta = 0.001)\n",
    "    \n",
    "    Notes\n",
    "    ----------\n",
    "    The parameters are returned in a numpy ndarray.\n",
    "    \n",
    "    \"\"\"\n",
    "    np.random.seed(random_state)\n",
    "    n = X.shape[1]\n",
    "    one_column = np.ones((X.shape[0],1))\n",
    "    X = np.concatenate((one_column, X), axis = 1)\n",
    "    theta = np.random.rand(n+1)\n",
    "    h = hypothesis1(theta, X, n)\n",
    "    theta,cost = BGD1(theta,eta,n_rounds,h,X,y,n,tol)\n",
    "    return theta, cost\n",
    "        \n",
    "\n",
    "    \n",
    "def BGD1(theta, eta, n_rounds, h, X, y, n,tol):\n",
    "    cost = np.ones(n_rounds)\n",
    "    for i in range(0,n_rounds):\n",
    "        theta[0] = theta[0] - (eta/X.shape[0]) * sum(h - y)\n",
    "        for j in range(1,n+1):\n",
    "            theta[j]=theta[j]-(eta/X.shape[0])*sum((h-y)*X.transpose()[j])\n",
    "        h = hypothesis1(theta, X, n)\n",
    "        cost[i]=(-1/X.shape[0])*sum(y*np.log(h)+(1-y)*np.log(1 - h))\n",
    "        if abs(cost[i-1]-cost[i])<tol:\n",
    "            break\n",
    "    theta = theta.reshape(1,n+1)\n",
    "    return theta, cost\n",
    "\n",
    "\n",
    "def hypothesis1(theta, X, n):\n",
    "    h = np.ones((X.shape[0],1))\n",
    "    theta = theta.reshape(1,n+1)\n",
    "    for i in range(0,X.shape[0]):\n",
    "        h[i] = float(1 / (1 + np.exp(-float(np.dot(theta, X[i])))))\n",
    "    h = h.reshape(X.shape[0])\n",
    "    return h\n",
    "\n",
    "df3=pd.read_csv('/Users/paras/Desktop/Assignment4_SampleData_Ex3.csv')\n",
    "X=df3.iloc[:,1:]\n",
    "Y=df3.iloc[:,0]\n",
    "\n",
    "x=df3.iloc[:,1:]\n",
    "a,b=BGD_LogisticRegression(X, Y, 0.1,3000,0.00000001,42)\n",
    "X = np.concatenate((np.ones((X.shape[0],1)), X), axis = 1)\n",
    "h = hypothesis1(a, X, X.shape[1] - 1)\n",
    "for i in range(0, h.shape[0]):\n",
    "    if h[i] > 0.5:\n",
    "        h[i] = 1\n",
    "    else:\n",
    "        h[i] = 0\n",
    "\n",
    "print('The intercept and the slopes through custom bgd are ' + str(a))\n",
    "f1_score111=f1_score(Y,h)\n",
    "lg=LogisticRegression(random_state=42)\n",
    "lg.fit(x,Y)\n",
    "predicted = lg.predict(x)\n",
    "f=f1_score(Y,predicted)\n",
    "\n",
    "print('The intercept and the slopes throug scikit learn are ' +str(lg.intercept_) + ' ' +str(lg.coef_) + '\\n')\n",
    "print('The f1 score calculated through custom bgd implementation is ' + str(f1_score111))\n",
    "print('The f1 score calculated through scikit learn logistic regression is :'+str(f))\n",
    "\n",
    "\"\"\"To make it more precise increase the n_rounds but this would take up the computation time.\"\"\""
   ]
  },
  {
   "cell_type": "code",
   "execution_count": 32,
   "metadata": {},
   "outputs": [],
   "source": []
  },
  {
   "cell_type": "markdown",
   "metadata": {},
   "source": [
    "### Exercise 4"
   ]
  },
  {
   "cell_type": "markdown",
   "metadata": {},
   "source": [
    "Do all Gradient Descent algorithms result in the same model if you run them long enough?"
   ]
  },
  {
   "cell_type": "code",
   "execution_count": null,
   "metadata": {
    "collapsed": true
   },
   "outputs": [],
   "source": [
    "\"\"\"If it is  Linear Regression or Logistic Regression, and assuming\n",
    "the learning rate is not too high, then all Gradient Descent algorithms will approach the global optimum \n",
    "and end up producing fairly similar models. However, unless you gradually reduce the learning rate, \n",
    "Stochastic GD and Mini-batch GD will never truly converge; instead, they will keep jumping back and forth \n",
    "around the global optimum. This means that even if you let them run for a very long time, these \n",
    "Gradient Descent algorithms will produce slightly different models.\"\"\""
   ]
  },
  {
   "cell_type": "markdown",
   "metadata": {},
   "source": [
    "### Exercise 5"
   ]
  },
  {
   "cell_type": "markdown",
   "metadata": {
    "collapsed": true
   },
   "source": [
    "Explain the main difference between the Ridge, Lasso, and Elastic Net regressions."
   ]
  },
  {
   "cell_type": "code",
   "execution_count": null,
   "metadata": {
    "collapsed": true
   },
   "outputs": [],
   "source": [
    "\"\"\"Ridge and Lasso regression use two different penalty functions. Ridge uses l2 where as lasso goes with l1. \n",
    "In ridge regression, the penalty is the sum of the squares of the coefficients and for the Lasso, \n",
    "it’s the sum of the absolute values of the coefficients. ElasticNet is hybrid of lasso and ridge regression . \n",
    "It is trained with L1 and L2 prior as regularizer\"\"\""
   ]
  },
  {
   "cell_type": "markdown",
   "metadata": {},
   "source": [
    "### Exercise 6"
   ]
  },
  {
   "cell_type": "markdown",
   "metadata": {},
   "source": [
    "How does increasing the hyperparameter of the Lasso regression impact the model's bias and variance?"
   ]
  },
  {
   "cell_type": "code",
   "execution_count": null,
   "metadata": {
    "collapsed": true
   },
   "outputs": [],
   "source": [
    "#With the increase in hyperparameter, there is an increase in bias with a decrease in variance"
   ]
  },
  {
   "cell_type": "markdown",
   "metadata": {},
   "source": [
    "### Exercise 7"
   ]
  },
  {
   "cell_type": "markdown",
   "metadata": {
    "collapsed": true
   },
   "source": [
    "What is a Support Vector?"
   ]
  },
  {
   "cell_type": "code",
   "execution_count": null,
   "metadata": {
    "collapsed": true
   },
   "outputs": [],
   "source": [
    "#The vectors that define the hyperplane are the support vectors."
   ]
  },
  {
   "cell_type": "markdown",
   "metadata": {},
   "source": [
    "### Exercise 8"
   ]
  },
  {
   "cell_type": "markdown",
   "metadata": {},
   "source": [
    "Why is it important to scale the input features when using SVM?"
   ]
  },
  {
   "cell_type": "code",
   "execution_count": null,
   "metadata": {
    "collapsed": true
   },
   "outputs": [],
   "source": [
    "\"\"\"SVM tries to maximize the distance between the separating plane and the support vectors. \n",
    "If one feature has very large values, it will dominate the other features when calculating the distance. \n",
    "If you rescale all features (e.g. to [0, 1]), they all have the same influence on the distance metric\"\"\""
   ]
  },
  {
   "cell_type": "markdown",
   "metadata": {},
   "source": [
    "### Exercise 9"
   ]
  },
  {
   "cell_type": "markdown",
   "metadata": {
    "collapsed": true
   },
   "source": [
    "What is the main difference between the hard and soft margin classifers?"
   ]
  },
  {
   "cell_type": "code",
   "execution_count": null,
   "metadata": {
    "collapsed": true
   },
   "outputs": [],
   "source": [
    "\"\"\"Hard-margin\n",
    "This assumes that data is very well behaved, and you can find a perfect classifier - which will have \n",
    "0 error on train data.\n",
    "\n",
    "Soft-margin\n",
    "Data is usually not well behaved, so SVM hard margin may not have any solution at all. \n",
    "So we allow for a little bit of error on some points. So the training error will not be 0, \n",
    "but average error over all points is minimized. \n",
    "\"\"\""
   ]
  }
 ],
 "metadata": {
  "kernelspec": {
   "display_name": "Python 3",
   "language": "python",
   "name": "python3"
  },
  "language_info": {
   "codemirror_mode": {
    "name": "ipython",
    "version": 3
   },
   "file_extension": ".py",
   "mimetype": "text/x-python",
   "name": "python",
   "nbconvert_exporter": "python",
   "pygments_lexer": "ipython3",
   "version": "3.7.1"
  }
 },
 "nbformat": 4,
 "nbformat_minor": 2
}
