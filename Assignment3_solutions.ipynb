{
 "cells": [
  {
   "cell_type": "markdown",
   "metadata": {},
   "source": [
    "# EGRMGMT 590.10 Homework 3"
   ]
  },
  {
   "cell_type": "markdown",
   "metadata": {},
   "source": [
    "*Due at 6:15pm ET on Thursday, February 21*"
   ]
  },
  {
   "cell_type": "markdown",
   "metadata": {},
   "source": [
    "## Instructions"
   ]
  },
  {
   "cell_type": "markdown",
   "metadata": {},
   "source": [
    "+ There are 16 exercises in total. Exercise 1 through 14 require coding. Your grades are based on the accuracy of the results, not the code execution speed.\n",
    "  + Exercise 1 to 7, 10, 11, 13, 15 and 16: each is worth 0.5 points. \n",
    "  + Exercise 8, 9, 12 and 14: 1 point.\n",
    "+ Exercise 8 and 9 require to create the curves **from scratch** without relying on scikit-learn, Scikit-plot, or any other modules with functions or capabilities to \"plug-in and plot\" those curves.\n",
    "+ Exercises are dependent on prior exercises. Please work on them in the pre-determined order.\n",
    "+ Submit the .ipynb file to Sakai before 6:15pm ET on Thursday, February 21.\n",
    "+ Assignments handed in late will lose 1 point every 24-hour window after 6:15pm ET on Thursday, February 21."
   ]
  },
  {
   "cell_type": "markdown",
   "metadata": {},
   "source": [
    "## Dataset"
   ]
  },
  {
   "cell_type": "markdown",
   "metadata": {},
   "source": [
    "**Dataset Information:**\n",
    "\n",
    "We'll be working on a breast cancer dataset containing 569 samples of malignant and benign tumor cells. Features are computed from a digitized image of a fine needle aspirate (FNA) of a breast mass. They describe characteristics of the cell nuclei present in the image.\n",
    "\n",
    "+ 1st column: ID number \n",
    "+ 2nd column: Diagnosis (M = malignant, B = benign) \n",
    "+ 3rd - 32th columns: 30 numerical features computed for each cell nucleus\n",
    "\n",
    "**Dataset Source:**\n",
    "https://archive.ics.uci.edu/ml/datasets/breast+cancer+wisconsin+(Diagnostic)"
   ]
  },
  {
   "cell_type": "markdown",
   "metadata": {},
   "source": [
    "## Exercises"
   ]
  },
  {
   "cell_type": "markdown",
   "metadata": {},
   "source": [
    "**Exercise Overview**\n",
    "\n",
    "+ We'll conduct classification analysis using the 30 numerical features to predict the likelihood that a given sample is malignant or benign. "
   ]
  },
  {
   "cell_type": "markdown",
   "metadata": {},
   "source": [
    "### Exercise 1 "
   ]
  },
  {
   "cell_type": "markdown",
   "metadata": {},
   "source": [
    "+ Read the breast cancer dataset from its URL (https://archive.ics.uci.edu/ml/machine-learning-databases/breast-cancer-wisconsin/wdbc.data)\n",
    "+ Keep the 30 numerical features in a NumPy array X\n",
    "+ Use sklearn to encode the diagnosis labels (i.e. 'M' and 'B') to integers (i.e. 1 and 0) and keep the results in a NumPy array y"
   ]
  },
  {
   "cell_type": "code",
   "execution_count": 1,
   "metadata": {},
   "outputs": [],
   "source": [
    "import pandas as pd\n",
    "import numpy as np\n",
    "from sklearn.preprocessing import LabelEncoder\n",
    "df=pd.read_csv(\"https://archive.ics.uci.edu/ml/machine-learning-databases/breast-cancer-wisconsin/wdbc.data\", header=None)\n",
    "X=np.array(df[df.columns[df.dtypes=='float']])\n",
    "encoder = LabelEncoder()\n",
    "y=np.array(encoder.fit_transform(df.loc[:,1]))"
   ]
  },
  {
   "cell_type": "code",
   "execution_count": 2,
   "metadata": {},
   "outputs": [
    {
     "data": {
      "text/html": [
       "<div>\n",
       "<style scoped>\n",
       "    .dataframe tbody tr th:only-of-type {\n",
       "        vertical-align: middle;\n",
       "    }\n",
       "\n",
       "    .dataframe tbody tr th {\n",
       "        vertical-align: top;\n",
       "    }\n",
       "\n",
       "    .dataframe thead th {\n",
       "        text-align: right;\n",
       "    }\n",
       "</style>\n",
       "<table border=\"1\" class=\"dataframe\">\n",
       "  <thead>\n",
       "    <tr style=\"text-align: right;\">\n",
       "      <th></th>\n",
       "      <th>0</th>\n",
       "      <th>1</th>\n",
       "      <th>2</th>\n",
       "      <th>3</th>\n",
       "      <th>4</th>\n",
       "      <th>5</th>\n",
       "      <th>6</th>\n",
       "      <th>7</th>\n",
       "      <th>8</th>\n",
       "      <th>9</th>\n",
       "      <th>...</th>\n",
       "      <th>22</th>\n",
       "      <th>23</th>\n",
       "      <th>24</th>\n",
       "      <th>25</th>\n",
       "      <th>26</th>\n",
       "      <th>27</th>\n",
       "      <th>28</th>\n",
       "      <th>29</th>\n",
       "      <th>30</th>\n",
       "      <th>31</th>\n",
       "    </tr>\n",
       "  </thead>\n",
       "  <tbody>\n",
       "    <tr>\n",
       "      <th>0</th>\n",
       "      <td>842302</td>\n",
       "      <td>M</td>\n",
       "      <td>17.99</td>\n",
       "      <td>10.38</td>\n",
       "      <td>122.80</td>\n",
       "      <td>1001.0</td>\n",
       "      <td>0.11840</td>\n",
       "      <td>0.27760</td>\n",
       "      <td>0.3001</td>\n",
       "      <td>0.14710</td>\n",
       "      <td>...</td>\n",
       "      <td>25.38</td>\n",
       "      <td>17.33</td>\n",
       "      <td>184.60</td>\n",
       "      <td>2019.0</td>\n",
       "      <td>0.1622</td>\n",
       "      <td>0.6656</td>\n",
       "      <td>0.7119</td>\n",
       "      <td>0.2654</td>\n",
       "      <td>0.4601</td>\n",
       "      <td>0.11890</td>\n",
       "    </tr>\n",
       "    <tr>\n",
       "      <th>1</th>\n",
       "      <td>842517</td>\n",
       "      <td>M</td>\n",
       "      <td>20.57</td>\n",
       "      <td>17.77</td>\n",
       "      <td>132.90</td>\n",
       "      <td>1326.0</td>\n",
       "      <td>0.08474</td>\n",
       "      <td>0.07864</td>\n",
       "      <td>0.0869</td>\n",
       "      <td>0.07017</td>\n",
       "      <td>...</td>\n",
       "      <td>24.99</td>\n",
       "      <td>23.41</td>\n",
       "      <td>158.80</td>\n",
       "      <td>1956.0</td>\n",
       "      <td>0.1238</td>\n",
       "      <td>0.1866</td>\n",
       "      <td>0.2416</td>\n",
       "      <td>0.1860</td>\n",
       "      <td>0.2750</td>\n",
       "      <td>0.08902</td>\n",
       "    </tr>\n",
       "    <tr>\n",
       "      <th>2</th>\n",
       "      <td>84300903</td>\n",
       "      <td>M</td>\n",
       "      <td>19.69</td>\n",
       "      <td>21.25</td>\n",
       "      <td>130.00</td>\n",
       "      <td>1203.0</td>\n",
       "      <td>0.10960</td>\n",
       "      <td>0.15990</td>\n",
       "      <td>0.1974</td>\n",
       "      <td>0.12790</td>\n",
       "      <td>...</td>\n",
       "      <td>23.57</td>\n",
       "      <td>25.53</td>\n",
       "      <td>152.50</td>\n",
       "      <td>1709.0</td>\n",
       "      <td>0.1444</td>\n",
       "      <td>0.4245</td>\n",
       "      <td>0.4504</td>\n",
       "      <td>0.2430</td>\n",
       "      <td>0.3613</td>\n",
       "      <td>0.08758</td>\n",
       "    </tr>\n",
       "    <tr>\n",
       "      <th>3</th>\n",
       "      <td>84348301</td>\n",
       "      <td>M</td>\n",
       "      <td>11.42</td>\n",
       "      <td>20.38</td>\n",
       "      <td>77.58</td>\n",
       "      <td>386.1</td>\n",
       "      <td>0.14250</td>\n",
       "      <td>0.28390</td>\n",
       "      <td>0.2414</td>\n",
       "      <td>0.10520</td>\n",
       "      <td>...</td>\n",
       "      <td>14.91</td>\n",
       "      <td>26.50</td>\n",
       "      <td>98.87</td>\n",
       "      <td>567.7</td>\n",
       "      <td>0.2098</td>\n",
       "      <td>0.8663</td>\n",
       "      <td>0.6869</td>\n",
       "      <td>0.2575</td>\n",
       "      <td>0.6638</td>\n",
       "      <td>0.17300</td>\n",
       "    </tr>\n",
       "    <tr>\n",
       "      <th>4</th>\n",
       "      <td>84358402</td>\n",
       "      <td>M</td>\n",
       "      <td>20.29</td>\n",
       "      <td>14.34</td>\n",
       "      <td>135.10</td>\n",
       "      <td>1297.0</td>\n",
       "      <td>0.10030</td>\n",
       "      <td>0.13280</td>\n",
       "      <td>0.1980</td>\n",
       "      <td>0.10430</td>\n",
       "      <td>...</td>\n",
       "      <td>22.54</td>\n",
       "      <td>16.67</td>\n",
       "      <td>152.20</td>\n",
       "      <td>1575.0</td>\n",
       "      <td>0.1374</td>\n",
       "      <td>0.2050</td>\n",
       "      <td>0.4000</td>\n",
       "      <td>0.1625</td>\n",
       "      <td>0.2364</td>\n",
       "      <td>0.07678</td>\n",
       "    </tr>\n",
       "  </tbody>\n",
       "</table>\n",
       "<p>5 rows × 32 columns</p>\n",
       "</div>"
      ],
      "text/plain": [
       "         0  1      2      3       4       5        6        7       8   \\\n",
       "0    842302  M  17.99  10.38  122.80  1001.0  0.11840  0.27760  0.3001   \n",
       "1    842517  M  20.57  17.77  132.90  1326.0  0.08474  0.07864  0.0869   \n",
       "2  84300903  M  19.69  21.25  130.00  1203.0  0.10960  0.15990  0.1974   \n",
       "3  84348301  M  11.42  20.38   77.58   386.1  0.14250  0.28390  0.2414   \n",
       "4  84358402  M  20.29  14.34  135.10  1297.0  0.10030  0.13280  0.1980   \n",
       "\n",
       "        9    ...        22     23      24      25      26      27      28  \\\n",
       "0  0.14710   ...     25.38  17.33  184.60  2019.0  0.1622  0.6656  0.7119   \n",
       "1  0.07017   ...     24.99  23.41  158.80  1956.0  0.1238  0.1866  0.2416   \n",
       "2  0.12790   ...     23.57  25.53  152.50  1709.0  0.1444  0.4245  0.4504   \n",
       "3  0.10520   ...     14.91  26.50   98.87   567.7  0.2098  0.8663  0.6869   \n",
       "4  0.10430   ...     22.54  16.67  152.20  1575.0  0.1374  0.2050  0.4000   \n",
       "\n",
       "       29      30       31  \n",
       "0  0.2654  0.4601  0.11890  \n",
       "1  0.1860  0.2750  0.08902  \n",
       "2  0.2430  0.3613  0.08758  \n",
       "3  0.2575  0.6638  0.17300  \n",
       "4  0.1625  0.2364  0.07678  \n",
       "\n",
       "[5 rows x 32 columns]"
      ]
     },
     "execution_count": 2,
     "metadata": {},
     "output_type": "execute_result"
    }
   ],
   "source": [
    "df.head(5)"
   ]
  },
  {
   "cell_type": "markdown",
   "metadata": {},
   "source": [
    "### Exercise 2"
   ]
  },
  {
   "cell_type": "markdown",
   "metadata": {},
   "source": [
    "+ Use matplotlib to create a matrix of histograms for the 30 input features\n",
    "+ Each subplot is for a unique feature and includes two histograms: one for the malignant tumors and the other for the benign tumors\n",
    "+ Observe how the distributions vary between the malignant and benign tumors "
   ]
  },
  {
   "cell_type": "code",
   "execution_count": 3,
   "metadata": {},
   "outputs": [],
   "source": [
    "%matplotlib inline"
   ]
  },
  {
   "cell_type": "code",
   "execution_count": 4,
   "metadata": {
    "scrolled": true
   },
   "outputs": [
    {
     "data": {
      "image/png": "[encoded data removed]",
      "text/plain": [
       "<Figure size 864x648 with 30 Axes>"
      ]
     },
     "metadata": {
      "needs_background": "light"
     },
     "output_type": "display_data"
    }
   ],
   "source": [
    "import matplotlib.pyplot as plt\n",
    "fig,axes =plt.subplots(10,3, figsize=(12, 9))\n",
    "\n",
    "malignant = X[y==1]\n",
    "benign=X[y==0]\n",
    "\n",
    "ax=axes.ravel()\n",
    "for i in range(30):\n",
    "  _,bins=np.histogram(X[:,i],bins=40)\n",
    "  ax[i].hist(malignant[:,i],bins=bins,color='r',alpha=.5)\n",
    "  ax[i].hist(benign[:,i],bins=bins,color='g',alpha=0.3)\n",
    "  ax[i].legend(['malignant','benign'],loc='best',fontsize=8)\n",
    "\n",
    "\n",
    "plt.show()\n"
   ]
  },
  {
   "cell_type": "markdown",
   "metadata": {},
   "source": [
    "### Exercise 3"
   ]
  },
  {
   "cell_type": "markdown",
   "metadata": {},
   "source": [
    "+ Use the stratified sampling approach to split the input features X and the output variable y into training and testing sets (i.e. X_train, y_train, X_test, and y_test) at a 8:2 ratio while preserving the proportions of malignant and benign tumors in each set\n",
    "+ Compare the proportions of malignant and benign tumors among the overall, training, and testing sets"
   ]
  },
  {
   "cell_type": "code",
   "execution_count": 6,
   "metadata": {},
   "outputs": [
    {
     "name": "stdout",
     "output_type": "stream",
     "text": [
      "Proportion of malignant tumors in overall\n",
      "0.37258347978910367\n",
      "\n",
      "\n",
      "Proportion of benign tumors in overall\n",
      "0.6274165202108963\n",
      "\n",
      "\n",
      "Proportion of malignant tumors in training\n",
      "0.37362637362637363\n",
      "\n",
      "\n",
      "Proportion of benign tumors in training\n",
      "0.6263736263736264\n",
      "\n",
      "\n",
      "Proportion of malignant tumors in test\n",
      "0.3684210526315789\n",
      "\n",
      "\n",
      "Proportion of benign tumors in test\n",
      "0.631578947368421\n",
      "\n",
      "\n"
     ]
    }
   ],
   "source": [
    "from sklearn.model_selection import StratifiedShuffleSplit\n",
    "\n",
    "split = StratifiedShuffleSplit(n_splits=1, test_size=0.2, random_state=42)\n",
    "for train_index, test_index in split.split(X, y):\n",
    "    X_train, X_test = X[train_index] , X[test_index]\n",
    "    y_train, y_test = y[train_index] , y[test_index]\n",
    " \n",
    "\n",
    "print(\"Proportion of malignant tumors in overall\")\n",
    "print(len(X[y==1])/len(X))\n",
    "print(\"\\n\")\n",
    "print(\"Proportion of benign tumors in overall\")\n",
    "print(len(X[y==0])/len(X))\n",
    "print(\"\\n\")\n",
    "\n",
    "print(\"Proportion of malignant tumors in training\")\n",
    "print(len(X_train[y_train==1])/len(X_train))\n",
    "print(\"\\n\")\n",
    "print(\"Proportion of benign tumors in training\")\n",
    "print(len(X_train[y_train==0])/len(X_train))\n",
    "print(\"\\n\")\n",
    "\n",
    "print(\"Proportion of malignant tumors in test\")\n",
    "print(len(X_test[y_test==1])/len(X_test))\n",
    "print(\"\\n\")\n",
    "print(\"Proportion of benign tumors in test\")\n",
    "print(len(X_test[y_test==0])/len(X_test))\n",
    "print(\"\\n\")"
   ]
  },
  {
   "cell_type": "markdown",
   "metadata": {},
   "source": [
    "### Exercise 4"
   ]
  },
  {
   "cell_type": "markdown",
   "metadata": {},
   "source": [
    "+ Use sklearn to create a Pipeline to process the data and build a classifier using the training dataset\n",
    "+ The Pipeline includes three sequential steps:\n",
    "  * Standardizing the 30 input features \n",
    "  * Using sklearn's PCA to reduce the 30 input features into 2 components\n",
    "  * Fitting a logistic regression model using the 2 components as input variables\n",
    "+ Apply the Pipeline to the training dataset and calculate its prediction accuracy rate"
   ]
  },
  {
   "cell_type": "code",
   "execution_count": 7,
   "metadata": {},
   "outputs": [
    {
     "name": "stdout",
     "output_type": "stream",
     "text": [
      "0.9516483516483516\n"
     ]
    },
    {
     "name": "stderr",
     "output_type": "stream",
     "text": [
      "/anaconda3/lib/python3.7/site-packages/sklearn/linear_model/logistic.py:433: FutureWarning: Default solver will be changed to 'lbfgs' in 0.22. Specify a solver to silence this warning.\n",
      "  FutureWarning)\n"
     ]
    }
   ],
   "source": [
    "from sklearn.pipeline import Pipeline\n",
    "from sklearn.preprocessing import StandardScaler\n",
    "from sklearn.decomposition import PCA\n",
    "from sklearn.linear_model import LogisticRegression\n",
    "from sklearn.metrics import accuracy_score\n",
    "\n",
    "estimators = [('Scaler',StandardScaler()),('reduce dim', PCA(n_components=2,random_state=42)),\n",
    "              ('clf',LogisticRegression(random_state=42))]\n",
    "pipe=Pipeline(estimators)\n",
    "\n",
    "pipe.fit(X_train,y_train)\n",
    "predicted = pipe.predict(X_train)\n",
    "print(accuracy_score(y_train, predicted))\n"
   ]
  },
  {
   "cell_type": "markdown",
   "metadata": {},
   "source": [
    "### Exercise 5"
   ]
  },
  {
   "cell_type": "markdown",
   "metadata": {},
   "source": [
    "+ Create a precision and recall tradeoff chart using the training dataset and its predictions based on the Pipeline created in Exercise 4\n",
    "+ Print the value of the optimal probability cut point for predicting the diagnosis outcomes"
   ]
  },
  {
   "cell_type": "code",
   "execution_count": 8,
   "metadata": {},
   "outputs": [
    {
     "name": "stdout",
     "output_type": "stream",
     "text": [
      "[0.37362637 0.94578313 1.        ]\n",
      "[1.         0.92352941 0.        ]\n"
     ]
    },
    {
     "data": {
      "image/png": "[encoded data removed]",
      "text/plain": [
       "<Figure size 432x288 with 1 Axes>"
      ]
     },
     "metadata": {
      "needs_background": "light"
     },
     "output_type": "display_data"
    },
    {
     "data": {
      "image/png": "[encoded data removed]",
      "text/plain": [
       "<Figure size 432x288 with 1 Axes>"
      ]
     },
     "metadata": {
      "needs_background": "light"
     },
     "output_type": "display_data"
    },
    {
     "name": "stdout",
     "output_type": "stream",
     "text": [
      "0.8919504643962849\n"
     ]
    }
   ],
   "source": [
    "from sklearn.metrics import precision_recall_curve\n",
    "precision,recall,threshold =precision_recall_curve(y_train,predicted)\n",
    "from sklearn import metrics\n",
    "fpr, tpr, thresholds = metrics.roc_curve(y_train,predicted)\n",
    "\n",
    "import matplotlib.pyplot as plt\n",
    "print(precision,recall, sep='\\n')\n",
    "\n",
    "plt.plot(threshold, precision[:-1], 'b--', label='precision')\n",
    "plt.plot(threshold, recall[:-1], 'g--', label = 'recall')\n",
    "plt.xlabel('Threshold')\n",
    "plt.legend(loc='upper left')\n",
    "\n",
    "\n",
    "plt.show()\n",
    "\n",
    "plt.plot(recall,precision, 'g')\n",
    "plt.xlabel('Recall')\n",
    "plt.ylabel('Precision')\n",
    "plt.show()\n",
    "\n",
    "print(max(tpr-fpr))\n",
    "\n"
   ]
  },
  {
   "cell_type": "markdown",
   "metadata": {},
   "source": [
    "### Exercise 6"
   ]
  },
  {
   "cell_type": "markdown",
   "metadata": {},
   "source": [
    "+ Apply the Pipeline created in Exercise 4 and make predictions for the testing dataset\n",
    "+ Calculate the following model quality metrics based on the testing dataset and its predictions\n",
    "  * Confusion matrix\n",
    "  * Precision score\n",
    "  * Recall score\n",
    "  * F1 score\n",
    "  * ROC AUC score"
   ]
  },
  {
   "cell_type": "code",
   "execution_count": 9,
   "metadata": {},
   "outputs": [
    {
     "name": "stdout",
     "output_type": "stream",
     "text": [
      "[[71  1]\n",
      " [ 5 37]]\n",
      "0.9736842105263158\n",
      "0.8809523809523809\n",
      "0.925\n",
      "0.933531746031746\n"
     ]
    }
   ],
   "source": [
    "from sklearn.metrics import confusion_matrix,precision_score,recall_score, f1_score,roc_auc_score, classification_report\n",
    "predicted1=pipe.predict(X_test)\n",
    "print(confusion_matrix(y_test,predicted1))\n",
    "print(precision_score(y_test,predicted1))\n",
    "print(recall_score(y_test,predicted1))\n",
    "print(f1_score(y_test,predicted1))\n",
    "print(roc_auc_score(y_test,predicted1))"
   ]
  },
  {
   "cell_type": "markdown",
   "metadata": {},
   "source": [
    "### Exercise 7"
   ]
  },
  {
   "cell_type": "markdown",
   "metadata": {},
   "source": [
    "+ Use sklearn to create two ROC curves on the same chart for the Pipeline created in Exercise 4:\n",
    "  * One ROC curve is based on the training dataset and its predictions\n",
    "  * The other ROC curve is based on the testing dataset and its predictions\n",
    "+ Assess the chances of overfitting and underfitting by comparing the two ROC curves"
   ]
  },
  {
   "cell_type": "code",
   "execution_count": 10,
   "metadata": {},
   "outputs": [
    {
     "name": "stdout",
     "output_type": "stream",
     "text": [
      "[0.         0.01388889 1.        ]\n",
      "[0.         0.88095238 1.        ]\n",
      "[0.         0.03157895 1.        ]\n",
      "[0.         0.92352941 1.        ]\n"
     ]
    },
    {
     "data": {
      "image/png": "[encoded data removed]",
      "text/plain": [
       "<Figure size 432x288 with 1 Axes>"
      ]
     },
     "metadata": {
      "needs_background": "light"
     },
     "output_type": "display_data"
    }
   ],
   "source": [
    "from sklearn import metrics\n",
    "\n",
    "fpr, tpr, thresholds = metrics.roc_curve(y_train,predicted)\n",
    "plt.plot(fpr,tpr)\n",
    "fpr1,tpr1,t=metrics.roc_curve(y_test,predicted1)\n",
    "plt.plot(fpr1,tpr1)\n",
    "print(fpr1)\n",
    "print(tpr1)\n",
    "print(fpr)\n",
    "print(tpr)\n",
    "plt.show()\n",
    "\n",
    "#the chances of underfitting are relatively higher than overfitting by comparing the two ROC curves are significantly clost to each other."
   ]
  },
  {
   "cell_type": "markdown",
   "metadata": {},
   "source": [
    "### Exercise 8"
   ]
  },
  {
   "cell_type": "markdown",
   "metadata": {},
   "source": [
    "+ Write a function plotROC(y, y_prob) to create a ROC curve from scratch:\n",
    "    * y contains the actual outcomes\n",
    "    * y_prob contains the predicted probabilities of the outcome occurring\n",
    "+ Apply the plotROC function to the testing dataset and its prediction based on the Pipeline created in Exercise 4"
   ]
  },
  {
   "cell_type": "markdown",
   "metadata": {},
   "source": []
  },
  {
   "cell_type": "code",
   "execution_count": 10,
   "metadata": {},
   "outputs": [],
   "source": [
    "def plotROC1(y, y_prob):\n",
    "    tpr, fpr, thresholds = [],[],[]\n",
    "    thresholds = np.concatenate(([np.max(y_prob)+1],np.unique(y_prob)[::-1]), axis=None)\n",
    "    for threshold in thresholds:\n",
    "        y_p = list(map(lambda x : 1 if x >= threshold else 0, y_prob)) \n",
    "        tp = fp = tn = fn = 0\n",
    "        for ind in range(len(y_p)):\n",
    "            if y[ind] & y_p[ind] == 1: tp += 1 \n",
    "            elif y[ind] | y_p[ind] == 0: tn += 1\n",
    "            elif ~y[ind] & y_p[ind] == 1: fp +=1\n",
    "            else: fn += 1\n",
    "        tpr.append(tp/(tp+fn))\n",
    "        fpr.append(fp/(fp+tn))\n",
    "    return fpr, tpr, thresholds"
   ]
  },
  {
   "cell_type": "code",
   "execution_count": 11,
   "metadata": {},
   "outputs": [
    {
     "data": {
      "image/png": "[encoded data removed]",
      "text/plain": [
       "<Figure size 432x288 with 1 Axes>"
      ]
     },
     "metadata": {},
     "output_type": "display_data"
    }
   ],
   "source": [
    "fpr, tpr, thresh = plotROC1(y_test, predicted1)\n",
    "#print(tpr,fpr, thresh, sep='\\n')\n",
    "plt.plot(fpr,tpr)\n",
    "plt.xlabel('fpr')\n",
    "plt.ylabel('tpr')\n",
    "plt.title('ROC Curve')\n",
    "plt.show()"
   ]
  },
  {
   "cell_type": "markdown",
   "metadata": {},
   "source": [
    "### Exercise 9"
   ]
  },
  {
   "cell_type": "markdown",
   "metadata": {},
   "source": [
    "+ Create a cumulative gains chart from scratch using the testing dataset and its predictions based on the Pipeline created in Exercise 4"
   ]
  },
  {
   "cell_type": "code",
   "execution_count": 11,
   "metadata": {},
   "outputs": [],
   "source": [
    "predicted2 = pipe.predict_proba(X_test)\n",
    "baseline , sample = np.linspace(0,1,11), np.linspace(0,1,11)\n",
    "class_gain = []\n",
    "for i in range(len(predicted2[0])):\n",
    "    class_proba = predicted2[:,i]\n",
    "    m = []\n",
    "    m.append(class_proba)\n",
    "    m.append(y_test)\n",
    "    fin1 = np.array(m).T\n",
    "    fin = fin1[fin1[:,0].argsort()][::-1]\n",
    "    tot_res = len(fin[np.where(fin[:,1] == i)])\n",
    "    cls_gain = []\n",
    "    for smp in sample:\n",
    "        s = fin[:int(len(fin)*smp), :]\n",
    "        res = len(s[np.where(s[:,1] == i)])\n",
    "        cls_gain.append(float(res/tot_res))\n",
    "    class_gain.append(cls_gain)"
   ]
  },
  {
   "cell_type": "code",
   "execution_count": 12,
   "metadata": {},
   "outputs": [
    {
     "data": {
      "image/png": "[encoded data removed]",
      "text/plain": [
       "<Figure size 432x288 with 1 Axes>"
      ]
     },
     "metadata": {
      "needs_background": "light"
     },
     "output_type": "display_data"
    }
   ],
   "source": [
    "for i in range(len(class_gain)):\n",
    "    plt.plot(sample,class_gain[i], label='Class ' + str(i))\n",
    "plt.plot(sample,baseline,'--', label='Baseline')\n",
    "plt.xlim(left=0, right=1.0)\n",
    "plt.ylim(bottom=0,top=1.0)\n",
    "plt.xlabel('Percentage of Sample')\n",
    "plt.ylabel('Gain')\n",
    "plt.legend(loc='lower right')\n",
    "plt.title('Cumulative gains chart')\n",
    "plt.show()"
   ]
  },
  {
   "cell_type": "code",
   "execution_count": 14,
   "metadata": {},
   "outputs": [
    {
     "name": "stderr",
     "output_type": "stream",
     "text": [
      "/home/prashant/.local/lib/python3.6/site-packages/matplotlib/cbook/__init__.py:424: MatplotlibDeprecationWarning: \n",
      "Passing one of 'on', 'true', 'off', 'false' as a boolean is deprecated; use an actual boolean (True/False) instead.\n",
      "  warn_deprecated(\"2.2\", \"Passing one of 'on', 'true', 'off', 'false' as a \"\n"
     ]
    },
    {
     "data": {
      "text/plain": [
       "<matplotlib.axes._subplots.AxesSubplot at 0x7f56c8960c50>"
      ]
     },
     "execution_count": 14,
     "metadata": {},
     "output_type": "execute_result"
    },
    {
     "data": {
      "image/png": "[encoded data removed]",
      "text/plain": [
       "<Figure size 432x288 with 1 Axes>"
      ]
     },
     "metadata": {},
     "output_type": "display_data"
    }
   ],
   "source": [
    "import scikitplot as skplt \n",
    "import matplotlib.pyplot as plt\n",
    "predicted2 = pipe.predict_proba(X_test)\n",
    "skplt.metrics.plot_cumulative_gain(y_test, predicted2) "
   ]
  },
  {
   "cell_type": "markdown",
   "metadata": {},
   "source": [
    "### Exercise 10"
   ]
  },
  {
   "cell_type": "markdown",
   "metadata": {},
   "source": [
    "+ Use sklearn to create a 10-fold stratified cross-validation for the training dataset while preserving the proportions of diagnosis in each fold\n",
    "+ Re-fit the Pipeline specified in Exercise 4 via the 10-fold cross-validation on the training dataset, i.e. each iteration involves training the model on 9 folds and validating the model on the remaining 1 fold \n",
    "+ Print the accuracy rate of each of the validation fold"
   ]
  },
  {
   "cell_type": "code",
   "execution_count": 14,
   "metadata": {
    "scrolled": true
   },
   "outputs": [
    {
     "name": "stdout",
     "output_type": "stream",
     "text": [
      "0.9565217391304348\n",
      "0.9347826086956522\n",
      "0.8913043478260869\n",
      "0.9347826086956522\n",
      "1.0\n",
      "0.9777777777777777\n",
      "0.9555555555555556\n",
      "0.9555555555555556\n",
      "0.9777777777777777\n",
      "0.9777777777777777\n"
     ]
    },
    {
     "name": "stderr",
     "output_type": "stream",
     "text": [
      "/anaconda3/lib/python3.7/site-packages/sklearn/linear_model/logistic.py:433: FutureWarning: Default solver will be changed to 'lbfgs' in 0.22. Specify a solver to silence this warning.\n",
      "  FutureWarning)\n",
      "/anaconda3/lib/python3.7/site-packages/sklearn/linear_model/logistic.py:433: FutureWarning: Default solver will be changed to 'lbfgs' in 0.22. Specify a solver to silence this warning.\n",
      "  FutureWarning)\n",
      "/anaconda3/lib/python3.7/site-packages/sklearn/linear_model/logistic.py:433: FutureWarning: Default solver will be changed to 'lbfgs' in 0.22. Specify a solver to silence this warning.\n",
      "  FutureWarning)\n",
      "/anaconda3/lib/python3.7/site-packages/sklearn/linear_model/logistic.py:433: FutureWarning: Default solver will be changed to 'lbfgs' in 0.22. Specify a solver to silence this warning.\n",
      "  FutureWarning)\n",
      "/anaconda3/lib/python3.7/site-packages/sklearn/linear_model/logistic.py:433: FutureWarning: Default solver will be changed to 'lbfgs' in 0.22. Specify a solver to silence this warning.\n",
      "  FutureWarning)\n",
      "/anaconda3/lib/python3.7/site-packages/sklearn/linear_model/logistic.py:433: FutureWarning: Default solver will be changed to 'lbfgs' in 0.22. Specify a solver to silence this warning.\n",
      "  FutureWarning)\n",
      "/anaconda3/lib/python3.7/site-packages/sklearn/linear_model/logistic.py:433: FutureWarning: Default solver will be changed to 'lbfgs' in 0.22. Specify a solver to silence this warning.\n",
      "  FutureWarning)\n",
      "/anaconda3/lib/python3.7/site-packages/sklearn/linear_model/logistic.py:433: FutureWarning: Default solver will be changed to 'lbfgs' in 0.22. Specify a solver to silence this warning.\n",
      "  FutureWarning)\n",
      "/anaconda3/lib/python3.7/site-packages/sklearn/linear_model/logistic.py:433: FutureWarning: Default solver will be changed to 'lbfgs' in 0.22. Specify a solver to silence this warning.\n",
      "  FutureWarning)\n",
      "/anaconda3/lib/python3.7/site-packages/sklearn/linear_model/logistic.py:433: FutureWarning: Default solver will be changed to 'lbfgs' in 0.22. Specify a solver to silence this warning.\n",
      "  FutureWarning)\n"
     ]
    }
   ],
   "source": [
    "from sklearn.model_selection import StratifiedKFold\n",
    "skf = StratifiedKFold(n_splits=10)\n",
    "skf.get_n_splits(X_train, y_train)\n",
    "i=0\n",
    "for train_index, test_index in skf.split(X_train, y_train):\n",
    "    X_train1, X_test1 = X[train_index], X[test_index]\n",
    "    y_train1, y_test1 = y[train_index], y[test_index]\n",
    "    pipe.fit(X_train1,y_train1)\n",
    "    predicted = pipe.predict(X_test1)\n",
    "    print(accuracy_score(y_test1, predicted))"
   ]
  },
  {
   "cell_type": "markdown",
   "metadata": {},
   "source": [
    "### Exercise 11"
   ]
  },
  {
   "cell_type": "markdown",
   "metadata": {},
   "source": [
    "+ Build a KNN classifier (*hint: sklearn's KNeighborsClassifier*) using the original 30 input features and find a set of top-performing hyperparameters (i.e. weights and number of neighbors) using a **grid search** with a 10-fold cross-validation on the training dataset\n",
    "+ Identify the best combination of hyperparameters based on the F1 scores\n",
    "+ Apply the best KNN classifier you identified to the testing dataset and calculate its F1 score based on its predictions"
   ]
  },
  {
   "cell_type": "code",
   "execution_count": 15,
   "metadata": {},
   "outputs": [],
   "source": [
    "from sklearn.neighbors import KNeighborsClassifier\n",
    "from sklearn.model_selection import GridSearchCV, KFold\n",
    "from sklearn.metrics import f1_score"
   ]
  },
  {
   "cell_type": "code",
   "execution_count": 17,
   "metadata": {},
   "outputs": [
    {
     "name": "stdout",
     "output_type": "stream",
     "text": [
      "Best performing params: {'n_neighbors': 11, 'weights': 'distance'}\n"
     ]
    },
    {
     "name": "stderr",
     "output_type": "stream",
     "text": [
      "/anaconda3/lib/python3.7/site-packages/sklearn/model_selection/_search.py:841: DeprecationWarning: The default of the `iid` parameter will change from True to False in version 0.22 and will be removed in 0.24. This will change numeric results when test-set sizes are unequal.\n",
      "  DeprecationWarning)\n"
     ]
    }
   ],
   "source": [
    "knn = KNeighborsClassifier()\n",
    "params = {'n_neighbors': list(range(1,20)),\n",
    "          'weights': ['uniform', 'distance']}\n",
    "grid_search1 = GridSearchCV(estimator=knn,\n",
    "                           param_grid=params,\n",
    "                           n_jobs=-1,\n",
    "                           cv=KFold(n_splits=10,random_state=42))\n",
    "grid_search1.fit(X_train,y_train)\n",
    "print('Best performing params:', grid_search1.best_params_)"
   ]
  },
  {
   "cell_type": "code",
   "execution_count": 41,
   "metadata": {},
   "outputs": [
    {
     "name": "stdout",
     "output_type": "stream",
     "text": [
      "Best performing params:  {'neighbors': 11, 'weights': 'uniform'}\n"
     ]
    }
   ],
   "source": [
    "best_combi = (1,'uniform')\n",
    "f1_max = 0.0\n",
    "for weights in ['uniform', 'distance']:\n",
    "    for neighbors in range(1,20):\n",
    "        knn = KNeighborsClassifier(n_neighbors=neighbors, weights=weights, n_jobs=-1)\n",
    "        knn.fit(X_train,y_train)\n",
    "        f1 = f1_score(y_test, knn.predict(X_test))\n",
    "        if f1 > f1_max:\n",
    "            f1_max = f1\n",
    "            best_combi = (neighbors,weights)\n",
    "            if neighbors==11 and weights == 'distance':\n",
    "                print(f1)\n",
    "print('Best performing params: ', {'neighbors': best_combi[0],\n",
    "                                        'weights'  : best_combi[1]})"
   ]
  },
  {
   "cell_type": "code",
   "execution_count": 39,
   "metadata": {},
   "outputs": [
    {
     "name": "stdout",
     "output_type": "stream",
     "text": [
      "f1 score :  0.923076923076923\n"
     ]
    }
   ],
   "source": [
    "knn = KNeighborsClassifier(n_neighbors=11, weights='uniform', n_jobs=-1)\n",
    "knn.fit(X_train,y_train)\n",
    "f1 = f1_score(y_test, knn.predict(X_test))\n",
    "print('f1 score : ', f1)"
   ]
  },
  {
   "cell_type": "markdown",
   "metadata": {},
   "source": [
    "### Exercise 12"
   ]
  },
  {
   "cell_type": "markdown",
   "metadata": {},
   "source": [
    "+ Create a chart to visualize the grid search results of Exercise 11\n",
    "+ Visualize how the average model quality metric of the validation folds varies across different combinations of hyperparameters \n",
    "+ Demonstrate the best hyperparameter combination identified in Exercise 11 indeed resulted in the highest model quality metric"
   ]
  },
  {
   "cell_type": "code",
   "execution_count": 20,
   "metadata": {},
   "outputs": [],
   "source": [
    "import pandas as pd"
   ]
  },
  {
   "cell_type": "code",
   "execution_count": 42,
   "metadata": {},
   "outputs": [
    {
     "name": "stderr",
     "output_type": "stream",
     "text": [
      "/anaconda3/lib/python3.7/site-packages/sklearn/utils/deprecation.py:125: FutureWarning: You are accessing a training score ('split0_train_score'), which will not be available by default any more in 0.21. If you need training scores, please set return_train_score=True\n",
      "  warnings.warn(*warn_args, **warn_kwargs)\n",
      "/anaconda3/lib/python3.7/site-packages/sklearn/utils/deprecation.py:125: FutureWarning: You are accessing a training score ('split1_train_score'), which will not be available by default any more in 0.21. If you need training scores, please set return_train_score=True\n",
      "  warnings.warn(*warn_args, **warn_kwargs)\n",
      "/anaconda3/lib/python3.7/site-packages/sklearn/utils/deprecation.py:125: FutureWarning: You are accessing a training score ('split2_train_score'), which will not be available by default any more in 0.21. If you need training scores, please set return_train_score=True\n",
      "  warnings.warn(*warn_args, **warn_kwargs)\n",
      "/anaconda3/lib/python3.7/site-packages/sklearn/utils/deprecation.py:125: FutureWarning: You are accessing a training score ('split3_train_score'), which will not be available by default any more in 0.21. If you need training scores, please set return_train_score=True\n",
      "  warnings.warn(*warn_args, **warn_kwargs)\n",
      "/anaconda3/lib/python3.7/site-packages/sklearn/utils/deprecation.py:125: FutureWarning: You are accessing a training score ('split4_train_score'), which will not be available by default any more in 0.21. If you need training scores, please set return_train_score=True\n",
      "  warnings.warn(*warn_args, **warn_kwargs)\n",
      "/anaconda3/lib/python3.7/site-packages/sklearn/utils/deprecation.py:125: FutureWarning: You are accessing a training score ('split5_train_score'), which will not be available by default any more in 0.21. If you need training scores, please set return_train_score=True\n",
      "  warnings.warn(*warn_args, **warn_kwargs)\n",
      "/anaconda3/lib/python3.7/site-packages/sklearn/utils/deprecation.py:125: FutureWarning: You are accessing a training score ('split6_train_score'), which will not be available by default any more in 0.21. If you need training scores, please set return_train_score=True\n",
      "  warnings.warn(*warn_args, **warn_kwargs)\n",
      "/anaconda3/lib/python3.7/site-packages/sklearn/utils/deprecation.py:125: FutureWarning: You are accessing a training score ('split7_train_score'), which will not be available by default any more in 0.21. If you need training scores, please set return_train_score=True\n",
      "  warnings.warn(*warn_args, **warn_kwargs)\n",
      "/anaconda3/lib/python3.7/site-packages/sklearn/utils/deprecation.py:125: FutureWarning: You are accessing a training score ('split8_train_score'), which will not be available by default any more in 0.21. If you need training scores, please set return_train_score=True\n",
      "  warnings.warn(*warn_args, **warn_kwargs)\n",
      "/anaconda3/lib/python3.7/site-packages/sklearn/utils/deprecation.py:125: FutureWarning: You are accessing a training score ('split9_train_score'), which will not be available by default any more in 0.21. If you need training scores, please set return_train_score=True\n",
      "  warnings.warn(*warn_args, **warn_kwargs)\n",
      "/anaconda3/lib/python3.7/site-packages/sklearn/utils/deprecation.py:125: FutureWarning: You are accessing a training score ('mean_train_score'), which will not be available by default any more in 0.21. If you need training scores, please set return_train_score=True\n",
      "  warnings.warn(*warn_args, **warn_kwargs)\n",
      "/anaconda3/lib/python3.7/site-packages/sklearn/utils/deprecation.py:125: FutureWarning: You are accessing a training score ('std_train_score'), which will not be available by default any more in 0.21. If you need training scores, please set return_train_score=True\n",
      "  warnings.warn(*warn_args, **warn_kwargs)\n"
     ]
    }
   ],
   "source": [
    "scores_df = pd.DataFrame(grid_search1.cv_results_)"
   ]
  },
  {
   "cell_type": "code",
   "execution_count": 43,
   "metadata": {},
   "outputs": [],
   "source": [
    "pd.set_option('display.max_columns', None)"
   ]
  },
  {
   "cell_type": "code",
   "execution_count": 44,
   "metadata": {},
   "outputs": [],
   "source": [
    "X_axis = scores_df.apply(lambda x : str(x['param_n_neighbors'])+'-'+str(x['param_weights']), axis = 1)"
   ]
  },
  {
   "cell_type": "code",
   "execution_count": 45,
   "metadata": {},
   "outputs": [
    {
     "data": {
      "image/png": "[encoded data removed]",
      "text/plain": [
       "<Figure size 432x288 with 1 Axes>"
      ]
     },
     "metadata": {
      "needs_background": "light"
     },
     "output_type": "display_data"
    }
   ],
   "source": [
    "plt.plot(X_axis,scores_df['mean_test_score'])\n",
    "plt.xticks(rotation=90)\n",
    "plt.xlabel('Parameter combination')\n",
    "plt.ylabel('Mean Score')\n",
    "plt.title('Grid score')\n",
    "plt.show()\n",
    "\n",
    "#You can see from below that 11, Uniform gives the best parameter score."
   ]
  },
  {
   "cell_type": "markdown",
   "metadata": {},
   "source": [
    "### Exercise 13"
   ]
  },
  {
   "cell_type": "markdown",
   "metadata": {},
   "source": [
    "+ Build a KNN classifier (*hint: sklearn's KNeighborsClassifier*) using the original 30 input features and find a set of top-performing hyperparameters (i.e. weights and number of neighbors) using a **random search** with a 10-fold cross-validation on the training dataset\n",
    "+ Identify the best combination of hyperparameters based on the F1 scores\n",
    "+ Apply the best KNN classifier you identified to the testing dataset and calculate the F1 score based on its predictions"
   ]
  },
  {
   "cell_type": "code",
   "execution_count": 25,
   "metadata": {},
   "outputs": [],
   "source": [
    "from sklearn.model_selection import RandomizedSearchCV"
   ]
  },
  {
   "cell_type": "code",
   "execution_count": 37,
   "metadata": {},
   "outputs": [
    {
     "name": "stdout",
     "output_type": "stream",
     "text": [
      "Best performing params: {'weights': 'distance', 'n_neighbors': 8}\n"
     ]
    },
    {
     "name": "stderr",
     "output_type": "stream",
     "text": [
      "/anaconda3/lib/python3.7/site-packages/sklearn/model_selection/_search.py:841: DeprecationWarning: The default of the `iid` parameter will change from True to False in version 0.22 and will be removed in 0.24. This will change numeric results when test-set sizes are unequal.\n",
      "  DeprecationWarning)\n"
     ]
    }
   ],
   "source": [
    "knn = KNeighborsClassifier()\n",
    "params = {'n_neighbors': list(range(1,20)),\n",
    "          'weights': ['uniform', 'distance']}\n",
    "rand_search = RandomizedSearchCV(estimator=knn,\n",
    "                           param_distributions=params,\n",
    "                           n_jobs=-1,\n",
    "                           cv=KFold(n_splits=10,random_state=42),\n",
    "                           random_state=42)\n",
    "rand_search.fit(X_train,y_train)\n",
    "print('Best performing params:', rand_search.best_params_)"
   ]
  },
  {
   "cell_type": "code",
   "execution_count": 27,
   "metadata": {},
   "outputs": [
    {
     "name": "stdout",
     "output_type": "stream",
     "text": [
      "Best performing params:  {'neighbors': 11, 'weights': 'uniform'}\n"
     ]
    }
   ],
   "source": [
    "best_combi = (1,'uniform')\n",
    "f1_max = 0.0\n",
    "for weights in ['uniform', 'distance']:\n",
    "    for neighbors in range(1,20):\n",
    "        knn = KNeighborsClassifier(n_neighbors=neighbors, weights=weights, n_jobs=-1)\n",
    "        knn.fit(X_train,y_train)\n",
    "        f1 = f1_score(y_test, knn.predict(X_test))\n",
    "        if f1 > f1_max:\n",
    "            f1_max = f1\n",
    "            best_combi = (neighbors,weights)\n",
    "print('Best performing params: ', {'neighbors': best_combi[0],\n",
    "                                        'weights'  : best_combi[1]})"
   ]
  },
  {
   "cell_type": "code",
   "execution_count": 28,
   "metadata": {},
   "outputs": [
    {
     "name": "stdout",
     "output_type": "stream",
     "text": [
      "f1 score :  0.8684210526315789\n"
     ]
    }
   ],
   "source": [
    "knn = KNeighborsClassifier(n_neighbors=8, weights='distance', n_jobs=-1)\n",
    "knn.fit(X_train,y_train)\n",
    "f1 = f1_score(y_test, knn.predict(X_test))\n",
    "print('f1 score : ', f1)"
   ]
  },
  {
   "cell_type": "markdown",
   "metadata": {},
   "source": [
    "11 neigbors gives a better f1 score"
   ]
  },
  {
   "cell_type": "markdown",
   "metadata": {},
   "source": [
    "### Exercise 14"
   ]
  },
  {
   "cell_type": "markdown",
   "metadata": {},
   "source": [
    "+ Build a KNN classifier via a 10-fold cross-validation on the training dataset using the 30 original input features and the best hyperparameters identified in Exercise 13\n",
    "+ Build a Random Forest classifier via a 10-fold cross validation on the training dataset using the 30 original input features and setting 50 as the number of trees in the forest\n",
    "+ Create a pair of box plots to compare a model quality metric across the validation folds used to validate the KNN and Random Forest models"
   ]
  },
  {
   "cell_type": "code",
   "execution_count": 29,
   "metadata": {},
   "outputs": [
    {
     "data": {
      "text/plain": [
       "KNeighborsClassifier(algorithm='auto', leaf_size=30, metric='minkowski',\n",
       "           metric_params=None, n_jobs=-1, n_neighbors=11, p=2,\n",
       "           weights='uniform')"
      ]
     },
     "execution_count": 29,
     "metadata": {},
     "output_type": "execute_result"
    }
   ],
   "source": [
    "knn = KNeighborsClassifier(n_neighbors=11, weights='uniform', n_jobs=-1)\n",
    "knn.fit(X_train,y_train)"
   ]
  },
  {
   "cell_type": "code",
   "execution_count": 30,
   "metadata": {},
   "outputs": [],
   "source": [
    "from sklearn.ensemble import RandomForestClassifier"
   ]
  },
  {
   "cell_type": "code",
   "execution_count": 31,
   "metadata": {},
   "outputs": [
    {
     "name": "stdout",
     "output_type": "stream",
     "text": [
      "Best performing params: {'criterion': 'gini', 'max_depth': 9, 'max_features': 0.05}\n"
     ]
    },
    {
     "name": "stderr",
     "output_type": "stream",
     "text": [
      "/anaconda3/lib/python3.7/site-packages/sklearn/model_selection/_search.py:841: DeprecationWarning: The default of the `iid` parameter will change from True to False in version 0.22 and will be removed in 0.24. This will change numeric results when test-set sizes are unequal.\n",
      "  DeprecationWarning)\n"
     ]
    }
   ],
   "source": [
    "rn = RandomForestClassifier(n_estimators=50, random_state=42)\n",
    "params = {'max_depth': list(range(2,10)),\n",
    "          'criterion': ['gini', 'entropy'],\n",
    "          'max_features': [0.05,0.1,0.15,0.2]}\n",
    "grid_search = GridSearchCV(estimator=rn,\n",
    "                           param_grid=params,\n",
    "                           n_jobs=-1,\n",
    "                           cv=KFold(n_splits=10,random_state=42))\n",
    "grid_search.fit(X_train,y_train)\n",
    "print('Best performing params:', grid_search.best_params_)"
   ]
  },
  {
   "cell_type": "code",
   "execution_count": 32,
   "metadata": {},
   "outputs": [],
   "source": [
    "import seaborn as sns"
   ]
  },
  {
   "cell_type": "code",
   "execution_count": 36,
   "metadata": {},
   "outputs": [
    {
     "data": {
      "image/png": "[encoded data removed]",
      "text/plain": [
       "<Figure size 432x288 with 1 Axes>"
      ]
     },
     "metadata": {
      "needs_background": "light"
     },
     "output_type": "display_data"
    }
   ],
   "source": [
    "sns.boxplot(grid_search1.cv_results_['mean_test_score'])\n",
    "plt.title(\"KNN\")\n",
    "plt.show()"
   ]
  },
  {
   "cell_type": "code",
   "execution_count": 35,
   "metadata": {},
   "outputs": [
    {
     "data": {
      "image/png": "[encoded data removed]",
      "text/plain": [
       "<Figure size 432x288 with 1 Axes>"
      ]
     },
     "metadata": {
      "needs_background": "light"
     },
     "output_type": "display_data"
    }
   ],
   "source": [
    "sns.boxplot(grid_search.cv_results_['mean_test_score'])\n",
    "plt.title(\"Random Forest\")\n",
    "plt.show()"
   ]
  },
  {
   "cell_type": "markdown",
   "metadata": {},
   "source": [
    "### Exercise 15"
   ]
  },
  {
   "cell_type": "markdown",
   "metadata": {},
   "source": [
    "+ Explain how the bias and variance would change when using a large vs. small k for the k-fold cross-validation"
   ]
  },
  {
   "cell_type": "code",
   "execution_count": null,
   "metadata": {},
   "outputs": [],
   "source": [
    "# lower K = less variance and more bias while higher K =  more variance and lower bias"
   ]
  },
  {
   "cell_type": "markdown",
   "metadata": {
    "collapsed": true
   },
   "source": [
    "### Exercise 16"
   ]
  },
  {
   "cell_type": "markdown",
   "metadata": {},
   "source": [
    "+ Explain the difference between probability, odds, and odds ratio"
   ]
  },
  {
   "cell_type": "code",
   "execution_count": null,
   "metadata": {},
   "outputs": [],
   "source": [
    "\"\"\"The probability that an event will occur is the fraction of times you expect to see that \n",
    "event in many trials. Probabilities always range between 0 and 1. The odds are defined as \n",
    "the probability that the event will occur divided by the probability that the event will not occur. \n",
    "odds ratios are frequently used to express the relative chance of an event happening under two different conditions\"\"\"\n",
    "\n",
    "#Example\n",
    "\n",
    "\"\"\"Suppose that the probability of a bad outcome is 0.2 if a patient takes the existing treatment, \n",
    "but that this is reduced to 0.1 if they take the new treatment. The odds of a bad outcome with the existing \n",
    "treatment is 0.2/0.8=0.25, while the odds on the new treatment are 0.1/0.9=0.111 (recurring). The odds ratio \n",
    "comparing the new treatment to the old treatment is then simply the \n",
    "correspond ratio of odds: (0.1/0.9) / (0.2/0.8) = 0.111 / 0.25 = 0.444 (recurring). This means that the \n",
    "odds of a bad outcome if a patient takes the new treatment are 0.444 that of the odds of a bad outcome \n",
    "if they take the existing treatment. The odds (and hence probability) of a bad outcome are reduced by \n",
    "taking the new treatment. We could also express the reduction by saying that the odds are reduced by \n",
    "approximately 56%, since the odds are reduced by a factor of 0.444\"\"\""
   ]
  }
 ],
 "metadata": {
  "kernelspec": {
   "display_name": "Python 3",
   "language": "python",
   "name": "python3"
  },
  "language_info": {
   "codemirror_mode": {
    "name": "ipython",
    "version": 3
   },
   "file_extension": ".py",
   "mimetype": "text/x-python",
   "name": "python",
   "nbconvert_exporter": "python",
   "pygments_lexer": "ipython3",
   "version": "3.7.1"
  }
 },
 "nbformat": 4,
 "nbformat_minor": 2
}
